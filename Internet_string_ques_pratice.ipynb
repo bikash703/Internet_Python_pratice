{
 "cells": [
  {
   "cell_type": "markdown",
   "id": "f8add042",
   "metadata": {},
   "source": [
    "## Python String Exercises"
   ]
  },
  {
   "cell_type": "code",
   "execution_count": 1,
   "id": "17e522c7",
   "metadata": {},
   "outputs": [
    {
     "name": "stdout",
     "output_type": "stream",
     "text": [
      "Enter a string or word: amaama\n",
      "This String is Palindrome\n",
      "This String is Symetrical\n"
     ]
    }
   ],
   "source": [
    "#Python program to check whether the string is Symetrical or Palindrome?\n",
    "\n",
    "n=input('Enter a string or word: ')\n",
    "\n",
    "if n==n[::-1]:\n",
    "    print('This String is Palindrome')\n",
    "else:\n",
    "    print('This String is Not Palindrome')\n",
    "    \n",
    "half=int(len(n)/2)\n",
    "\n",
    "if n[half:]==n[:half]:\n",
    "    print('This String is Symetrical')\n",
    "else:\n",
    "    print('This String is Not Symetrical')    "
   ]
  },
  {
   "cell_type": "code",
   "execution_count": 2,
   "id": "dfbcfbbf",
   "metadata": {},
   "outputs": [
    {
     "name": "stdout",
     "output_type": "stream",
     "text": [
      "Enter a Sentence: he looking very smart\n",
      "smart very looking he\n"
     ]
    }
   ],
   "source": [
    "##Python program to reverse words in a sentence?\n",
    "\n",
    "# sentence=input('Enter a sentence: ')\n",
    "# words=sentence.split(' ')\n",
    "# Reverse_words=' '.join(reversed(words))\n",
    "# Reverse_words\n",
    "\n",
    "#another Method\n",
    "def Reverse(Sentence):\n",
    "    words=Sentence.split(' ')\n",
    "    Reverse_words=' '.join(reversed(words))\n",
    "    return Reverse_words\n",
    "Sentence=input('Enter a Sentence: ')\n",
    "print(Reverse(Sentence))"
   ]
  },
  {
   "cell_type": "code",
   "execution_count": 3,
   "id": "0758c179",
   "metadata": {},
   "outputs": [
    {
     "name": "stdout",
     "output_type": "stream",
     "text": [
      "Enter a String: i am muskan\n",
      "am\n",
      "muskan\n"
     ]
    }
   ],
   "source": [
    "#Python program to print even length words in a string?\n",
    "\n",
    "n=input('Enter a String: ')\n",
    "words=n.split(' ')\n",
    "\n",
    "for i in words:\n",
    "    if len(i)%2==0:\n",
    "        print(i)\n",
    "        "
   ]
  },
  {
   "cell_type": "code",
   "execution_count": 4,
   "id": "89e5eb86",
   "metadata": {},
   "outputs": [
    {
     "name": "stdout",
     "output_type": "stream",
     "text": [
      "Enter a String: bikash\n",
      "BIKash\n"
     ]
    }
   ],
   "source": [
    "# python program--Uppercase half string?\n",
    "\n",
    "n=input('Enter a String: ')\n",
    "half=len(n)//2\n",
    "res=''\n",
    "for i in range(len(n)):\n",
    "    if i<half:\n",
    "        res+=n[i].upper()\n",
    "    else:\n",
    "        res+=n[i]\n",
    "print(res)"
   ]
  },
  {
   "cell_type": "code",
   "execution_count": 5,
   "id": "04605200",
   "metadata": {},
   "outputs": [
    {
     "name": "stdout",
     "output_type": "stream",
     "text": [
      "Enter a String: biksh\n",
      "BiksH\n"
     ]
    }
   ],
   "source": [
    "#Python program to capitalize the first and last character of each word in a string?\n",
    "\n",
    "n=input('Enter a String: ')\n",
    "l=len(n)\n",
    "res=''\n",
    "for i in range(l):\n",
    "    if i==0 or i==(l-1):\n",
    "        res+=n[i].upper()\n",
    "    else:\n",
    "        res+=n[i]\n",
    "print(res)\n"
   ]
  },
  {
   "cell_type": "code",
   "execution_count": 6,
   "id": "2bd93804",
   "metadata": {},
   "outputs": [
    {
     "name": "stdout",
     "output_type": "stream",
     "text": [
      "Enter a String: elephants\n",
      "e\n"
     ]
    }
   ],
   "source": [
    "#Python | Maximum frequency character in string?\n",
    "\n",
    "# from collections import Counter\n",
    "# word='geeks'\n",
    "# w=Counter(word)\n",
    "# m=max(w,key=w.get)\n",
    "# m\n",
    "\n",
    "\n",
    "n=input('Enter a String: ')\n",
    "res={}\n",
    "\n",
    "for i in n:\n",
    "    if i in res:\n",
    "        res[i]+=1\n",
    "    else:\n",
    "        res[i]=1\n",
    "print(max(res,key=res.get))\n",
    "    "
   ]
  },
  {
   "cell_type": "code",
   "execution_count": null,
   "id": "e9733a04",
   "metadata": {},
   "outputs": [],
   "source": []
  },
  {
   "cell_type": "code",
   "execution_count": null,
   "id": "787da0e4",
   "metadata": {},
   "outputs": [],
   "source": []
  }
 ],
 "metadata": {
  "kernelspec": {
   "display_name": "Python 3 (ipykernel)",
   "language": "python",
   "name": "python3"
  },
  "language_info": {
   "codemirror_mode": {
    "name": "ipython",
    "version": 3
   },
   "file_extension": ".py",
   "mimetype": "text/x-python",
   "name": "python",
   "nbconvert_exporter": "python",
   "pygments_lexer": "ipython3",
   "version": "3.9.7"
  }
 },
 "nbformat": 4,
 "nbformat_minor": 5
}
