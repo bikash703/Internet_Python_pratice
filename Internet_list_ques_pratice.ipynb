{
 "cells": [
  {
   "cell_type": "markdown",
   "id": "7edc6a03",
   "metadata": {},
   "source": [
    "## LIST EXERCISES"
   ]
  },
  {
   "cell_type": "code",
   "execution_count": 3,
   "id": "562fa800",
   "metadata": {},
   "outputs": [
    {
     "name": "stdout",
     "output_type": "stream",
     "text": [
      "[2, 7, 4, 5, 3, 8, 6]\n"
     ]
    }
   ],
   "source": [
    "#Python program to intercahnge first and last elements in a list?\n",
    "list=[2,6,5,7,4,9]\n",
    "list[0],list[-1] = list[-1],list[0]\n",
    "list\n",
    "\n",
    "#Another method\n",
    "\n",
    "def swap(list):\n",
    "    list[0],list[-1] = list[-1],list[0]\n",
    "    return list\n",
    "list=[6,7,4,5,3,8,2]\n",
    "print(swap(list))"
   ]
  },
  {
   "cell_type": "code",
   "execution_count": 5,
   "id": "14fa4217",
   "metadata": {},
   "outputs": [
    {
     "name": "stdout",
     "output_type": "stream",
     "text": [
      "Enter 1st position you want: 3\n",
      "Enter 2nd position you want: 5\n",
      "[45, 6, 34, 8, 7, 26]\n"
     ]
    }
   ],
   "source": [
    "#Pyhton program to swap to elements at a given positions\n",
    "def swap(list,pos1,pos2):\n",
    "    list[pos1],list[pos2] = list[pos2],list[pos1]\n",
    "    return list\n",
    "list=[45,6,34,26,7,8]\n",
    "pos1=int(input('Enter 1st position you want: '))\n",
    "pos2=int(input('Enter 2nd position you want: '))\n",
    "print(swap(list,pos1,pos2))"
   ]
  },
  {
   "cell_type": "code",
   "execution_count": 7,
   "id": "9b7e91fc",
   "metadata": {},
   "outputs": [
    {
     "name": "stdout",
     "output_type": "stream",
     "text": [
      "The length of list is 7\n"
     ]
    }
   ],
   "source": [
    "#Another way to find length of list?\n",
    "list=[5,4,7,87,6,4,2]\n",
    "count=0\n",
    "for i in list:\n",
    "    count+=1\n",
    "print('The length of list is',count)"
   ]
  },
  {
   "cell_type": "code",
   "execution_count": 14,
   "id": "397235bc",
   "metadata": {},
   "outputs": [
    {
     "name": "stdout",
     "output_type": "stream",
     "text": [
      "Enter Number you want to check: 4\n",
      "Element Exists\n",
      "Element Exists\n",
      "Element present 2 times\n",
      "Enter Number you want to check: 4\n",
      "Element exist\n",
      "Enter Number you want to check: 4\n",
      "Elemnet exist\n"
     ]
    }
   ],
   "source": [
    "#Check if element exists in list in python or not?\n",
    "list=[6,7,4,5,3,8,2,4]\n",
    "n=int(input('Enter Number you want to check: '))\n",
    "count=0\n",
    "for i in list:\n",
    "    if i==n:\n",
    "        print('Element Exists')\n",
    "        count+=1\n",
    "print(f'Element present {count} times')\n",
    "    \n",
    "    \n",
    "#Another method\n",
    "list=[6,7,4,5,3,8,2,4]\n",
    "n=int(input('Enter Number you want to check: '))\n",
    "if n in list:\n",
    "    print('Element exist')\n",
    "\n",
    "    \n",
    "#another method\n",
    "list=[6,7,4,5,3,8,2,4]\n",
    "n=int(input('Enter Number you want to check: '))\n",
    "\n",
    "list_count=list.count(n)\n",
    "\n",
    "if list_count>0:\n",
    "    print('Elemnet exist')\n"
   ]
  },
  {
   "cell_type": "code",
   "execution_count": 15,
   "id": "6a53432f",
   "metadata": {},
   "outputs": [
    {
     "name": "stdout",
     "output_type": "stream",
     "text": [
      "List before clear [6, 7, 4, 8, 9]\n",
      "List after clear []\n"
     ]
    }
   ],
   "source": [
    "#Different way to clear a list in python?\n",
    "list=[6,7,4,8,9]\n",
    "print('List before clear',list)\n",
    "\n",
    "list.clear()\n",
    "print('List after clear',list)"
   ]
  },
  {
   "cell_type": "code",
   "execution_count": 17,
   "id": "d39aa3e3",
   "metadata": {},
   "outputs": [
    {
     "name": "stdout",
     "output_type": "stream",
     "text": [
      "Reverse list is [9, 8, 4, 7, 6]\n"
     ]
    }
   ],
   "source": [
    "#Reverse a list in pyhton\n",
    "list=[6,7,4,8,9]\n",
    "print('Reverse list is',list[::-1])"
   ]
  },
  {
   "cell_type": "code",
   "execution_count": 19,
   "id": "2df6ec1f",
   "metadata": {},
   "outputs": [
    {
     "name": "stdout",
     "output_type": "stream",
     "text": [
      "Before cloning list is [6, 7, 4, 8, 9]\n",
      "After cloning list is [6, 7, 4, 8, 9]\n",
      "Before cloning list is [6, 7, 4, 8, 9]\n",
      "After cloning list is [6, 7, 4, 8, 9]\n"
     ]
    }
   ],
   "source": [
    "#cloning and copy a list in python?\n",
    "list=[6,7,4,8,9]\n",
    "after_cloning=list[:]\n",
    "print('Before cloning list is',list)\n",
    "print('After cloning list is',after_cloning)\n",
    "\n",
    "#another method\n",
    "list=[6,7,4,8,9]\n",
    "l=[]\n",
    "l.extend(list)\n",
    "print('Before cloning list is',list)\n",
    "print('After cloning list is',l)"
   ]
  },
  {
   "cell_type": "code",
   "execution_count": 23,
   "id": "dfeda158",
   "metadata": {},
   "outputs": [
    {
     "name": "stdout",
     "output_type": "stream",
     "text": [
      "Enter repeated no: 6\n",
      "6 has occured 3 times\n",
      "Enter repeated no: 6\n",
      "6 has occured 3 times\n"
     ]
    }
   ],
   "source": [
    "#count occurances of an element in a list?\n",
    "list=[6,7,4,6,8,6,9]\n",
    "count=0\n",
    "n=int(input('Enter repeated no: '))\n",
    "for i in list:\n",
    "    if i==n:\n",
    "        count+=1\n",
    "print(f'{n} has occured {count} times')\n",
    "\n",
    "\n",
    "#Another method\n",
    "list=[6,7,4,6,8,6,9]\n",
    "n=int(input('Enter repeated no: '))\n",
    "repeat=list.count(n)\n",
    "print(f'{n} has occured {repeat} times')\n"
   ]
  },
  {
   "cell_type": "code",
   "execution_count": 26,
   "id": "f0b07a2a",
   "metadata": {},
   "outputs": [
    {
     "name": "stdout",
     "output_type": "stream",
     "text": [
      "Sum of List is 34\n",
      "Average of List is 6.8\n"
     ]
    }
   ],
   "source": [
    "#Find Sum and Average in python?\n",
    "list=[6,7,4,8,9]\n",
    "sum=0\n",
    "count=0\n",
    "for i in list:\n",
    "    count+=1\n",
    "    sum=sum+i\n",
    "    \n",
    "average=sum/count\n",
    "print('Sum of List is',sum)\n",
    "print('Average of List is',average)"
   ]
  },
  {
   "cell_type": "code",
   "execution_count": 56,
   "id": "618b5e01",
   "metadata": {},
   "outputs": [
    {
     "name": "stdout",
     "output_type": "stream",
     "text": [
      "Smallest Number is  4\n",
      "Smallest Number is 4\n",
      "Smallest number is 4\n"
     ]
    }
   ],
   "source": [
    "#Python program to find smallest number in a list?\n",
    "list=[6,7,4,8,9]\n",
    "smallest=list[0]\n",
    "for i in list:\n",
    "    if i<smallest:\n",
    "        smallest=i\n",
    "print('Smallest Number is ',smallest)\n",
    "\n",
    "#Another method\n",
    "\n",
    "list=[6,7,4,8,9]\n",
    "l=min(list)\n",
    "print('Smallest Number is',l)\n",
    "\n",
    "#Another method \n",
    "list=[6,7,4,8,9]\n",
    "list.sort()\n",
    "print('Smallest number is',list[0])"
   ]
  },
  {
   "cell_type": "code",
   "execution_count": 60,
   "id": "ad9a36b6",
   "metadata": {},
   "outputs": [
    {
     "name": "stdout",
     "output_type": "stream",
     "text": [
      "Second Largest number is 8\n"
     ]
    }
   ],
   "source": [
    "#python program to find second largest number in a list ?\n",
    "list=[6,7,4,8,9]\n",
    "list.sort()\n",
    "print('Second Largest number is',list[-2])"
   ]
  },
  {
   "cell_type": "code",
   "execution_count": 61,
   "id": "6ad6dc8b",
   "metadata": {},
   "outputs": [
    {
     "data": {
      "text/plain": [
       "[6, 4, 8]"
      ]
     },
     "execution_count": 61,
     "metadata": {},
     "output_type": "execute_result"
    }
   ],
   "source": [
    "#Print even number in a list?\n",
    "list=[6,7,4,8,9]\n",
    "l=[]\n",
    "for i in list:\n",
    "    if i%2==0:\n",
    "        l.append(i)\n",
    "        \n",
    "l"
   ]
  },
  {
   "cell_type": "code",
   "execution_count": 63,
   "id": "1f7d88c6",
   "metadata": {},
   "outputs": [
    {
     "name": "stdout",
     "output_type": "stream",
     "text": [
      "2 4 6 8 10 12 14 "
     ]
    }
   ],
   "source": [
    "#print all even numbers in a range\n",
    "start,end=1,15\n",
    "for i in range(start,end+1):\n",
    "    if i%2==0:\n",
    "        print(i,end=' ')"
   ]
  },
  {
   "cell_type": "code",
   "execution_count": 66,
   "id": "1fcc75d5",
   "metadata": {},
   "outputs": [
    {
     "name": "stdout",
     "output_type": "stream",
     "text": [
      "Even number in list is 3- [2, 34, 6]\n",
      "Odd number in list is 4- [5, 7, 3, 11]\n"
     ]
    }
   ],
   "source": [
    "#Python program to count even and odd numbers in a List? \n",
    "list=[2,34,5,6,7,3,11]\n",
    "l=[]\n",
    "l1=[]\n",
    "count=0\n",
    "temp=0\n",
    "for i in list:\n",
    "    if i%2==0:\n",
    "        count+=1\n",
    "        l.append(i)\n",
    "    else:\n",
    "        temp+=1\n",
    "        l1.append(i)\n",
    "print(f'Even number in list is {count}- {l}')\n",
    "print(f'Odd number in list is {temp}- {l1}')"
   ]
  },
  {
   "cell_type": "code",
   "execution_count": 71,
   "id": "cde5c819",
   "metadata": {},
   "outputs": [
    {
     "name": "stdout",
     "output_type": "stream",
     "text": [
      "[(3, 4, 5), ('bicky', 'racky'), (67, 45, 34, 55)]\n"
     ]
    }
   ],
   "source": [
    "#Remove empty tuple in list\n",
    "\n",
    "def remove(tuple):\n",
    "    tuple=[i for i in tuple if i]\n",
    "    return tuple\n",
    "\n",
    "tuple=[(),(3,4,5),('bicky','racky'),(),(67,45,34,55),()]\n",
    "print(remove(tuple))"
   ]
  },
  {
   "cell_type": "code",
   "execution_count": 73,
   "id": "7fa4f8bc",
   "metadata": {},
   "outputs": [
    {
     "name": "stdout",
     "output_type": "stream",
     "text": [
      "[1, 4, 5, 0]\n"
     ]
    }
   ],
   "source": [
    "#python program to print dulpicates from a list of integers?\n",
    "list=[1,1,1,1,13,4,5,2,5,6,4,4,4,7,5,5,5,8,99,0,0]\n",
    "new_list=[]\n",
    "for i in list:\n",
    "    if list.count(i)>1:\n",
    "        if new_list.count(i)==0:\n",
    "            new_list.append(i)\n",
    "print(new_list)"
   ]
  },
  {
   "cell_type": "code",
   "execution_count": 2,
   "id": "2671132f",
   "metadata": {},
   "outputs": [
    {
     "data": {
      "text/plain": [
       "[1, 13, 4, 5, 2, 6, 7, 8, 99, 0]"
      ]
     },
     "execution_count": 2,
     "metadata": {},
     "output_type": "execute_result"
    }
   ],
   "source": [
    "#Python program to count unique values inside a list?\n",
    "list=[1,1,1,1,13,4,5,2,5,6,4,4,4,7,5,5,5,8,99,0,0]\n",
    "new_list=[]\n",
    "for i in list:\n",
    "    if i not in new_list:\n",
    "        new_list.append(i)\n",
    "new_list"
   ]
  },
  {
   "cell_type": "code",
   "execution_count": null,
   "id": "de3e2e28",
   "metadata": {},
   "outputs": [],
   "source": []
  }
 ],
 "metadata": {
  "kernelspec": {
   "display_name": "Python 3 (ipykernel)",
   "language": "python",
   "name": "python3"
  },
  "language_info": {
   "codemirror_mode": {
    "name": "ipython",
    "version": 3
   },
   "file_extension": ".py",
   "mimetype": "text/x-python",
   "name": "python",
   "nbconvert_exporter": "python",
   "pygments_lexer": "ipython3",
   "version": "3.9.7"
  }
 },
 "nbformat": 4,
 "nbformat_minor": 5
}
