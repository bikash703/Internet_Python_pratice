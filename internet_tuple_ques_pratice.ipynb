{
 "cells": [
  {
   "cell_type": "markdown",
   "id": "3716470f",
   "metadata": {},
   "source": [
    "## Python Tuple Exercises"
   ]
  },
  {
   "cell_type": "code",
   "execution_count": 1,
   "id": "2332330b",
   "metadata": {},
   "outputs": [
    {
     "name": "stdout",
     "output_type": "stream",
     "text": [
      "The size of the tuple is 44 bytes\n"
     ]
    }
   ],
   "source": [
    "#Python program find the size of the tuple in python?\n",
    "import sys\n",
    "tuple=('A',10,'B',15,'c',20)\n",
    "print(f'The size of the tuple is {sys.getsizeof(tuple)} bytes')"
   ]
  },
  {
   "cell_type": "code",
   "execution_count": 2,
   "id": "7fcf2876",
   "metadata": {},
   "outputs": [
    {
     "name": "stdout",
     "output_type": "stream",
     "text": [
      "The sum of the Tuple is  37\n"
     ]
    }
   ],
   "source": [
    "#Python program to find the sum of tuple elements?\n",
    "t=(3,2,5,6,4,8,9)\n",
    "sum=0\n",
    "for i in t:\n",
    "    sum+=i\n",
    "print('The sum of the Tuple is ',sum)\n"
   ]
  },
  {
   "cell_type": "code",
   "execution_count": 3,
   "id": "50237578",
   "metadata": {},
   "outputs": [
    {
     "name": "stdout",
     "output_type": "stream",
     "text": [
      "[(1, 1), (2, 8), (3, 27)]\n"
     ]
    }
   ],
   "source": [
    "#Python program to create a list of tuples from given list having number and its cube in each tuple?\n",
    "list=[1,2,3]\n",
    "res=[]\n",
    "for val in list:\n",
    "    res.append((val,pow(val,3)))\n",
    "print(res)"
   ]
  },
  {
   "cell_type": "code",
   "execution_count": 4,
   "id": "03d2efbc",
   "metadata": {},
   "outputs": [
    {
     "data": {
      "text/plain": [
       "[3, 'kgf', 5, 'kgf', 6, 'kgf', 8, 'kgf']"
      ]
     },
     "execution_count": 4,
     "metadata": {},
     "output_type": "execute_result"
    }
   ],
   "source": [
    "#Python program to convert tuple into list by adding the given String after every element?\n",
    "\n",
    "tup=(3,5,6,8)\n",
    "k='kgf'\n",
    "# res=''\n",
    "# for sub in tup:\n",
    "#     for ele in (sub,k):\n",
    "#         res.append(ele)\n",
    "res=[ele for sub in tup for ele in (sub,k)]\n",
    "res"
   ]
  },
  {
   "cell_type": "code",
   "execution_count": 5,
   "id": "2a40c142",
   "metadata": {},
   "outputs": [
    {
     "data": {
      "text/plain": [
       "{(12, 3), (3, 4), (None, 2)}"
      ]
     },
     "execution_count": 5,
     "metadata": {},
     "output_type": "execute_result"
    }
   ],
   "source": [
    "#Python progam to remove all None tuple in list\n",
    "list=[(None,2),(None,None),(3,4),(12,3),(None,)]\n",
    "res=[]\n",
    "for sub in list:\n",
    "    for ele in sub:\n",
    "        if(ele!=None):\n",
    "            res.append(sub)\n",
    "a=set(res)\n",
    "a\n",
    "            "
   ]
  },
  {
   "cell_type": "code",
   "execution_count": 6,
   "id": "8c0ccbf4",
   "metadata": {},
   "outputs": [
    {
     "data": {
      "text/plain": [
       "[('for', 24), ('Geeks', 28), ('is', 53), ('portal', 56)]"
      ]
     },
     "execution_count": 6,
     "metadata": {},
     "output_type": "execute_result"
    }
   ],
   "source": [
    "#sorted tuples\n",
    "tup=[('for',24),('is',53),('Geeks',28),('portal',56)]\n",
    "tup.sort(key=lambda x:x[1])\n",
    "tup\n"
   ]
  },
  {
   "cell_type": "code",
   "execution_count": 7,
   "id": "3dc37a48",
   "metadata": {},
   "outputs": [
    {
     "name": "stdout",
     "output_type": "stream",
     "text": [
      "[('is', 53), ('for', 24), ('Geeks', 28), ('portal', 56)]\n",
      "[('is', 53), ('for', 24), ('Geeks', 28), ('portal', 56)]\n"
     ]
    }
   ],
   "source": [
    "#python program to sort a list of tiples by second item\n",
    "def sort_tuple(tup):\n",
    "    tup[0],tup[1]=tup[1],tup[0]\n",
    "    return tup\n",
    "tup=[('for',24),('is',53),('Geeks',28),('portal',56)]\n",
    "print(sort_tuple(tup))\n",
    "\n",
    "\n",
    "#Another method\n",
    "\n",
    "def sort_t(tup,pos1,pos2):\n",
    "    tup[pos1],tup[pos2]=tup[pos2],tup[pos1]\n",
    "    return tup\n",
    "tup=[('for',24),('is',53),('Geeks',28),('portal',56)]\n",
    "pos1=0\n",
    "pos2=1\n",
    "print(sort_t(tup,pos1,pos2))"
   ]
  },
  {
   "cell_type": "code",
   "execution_count": 8,
   "id": "9e791304",
   "metadata": {},
   "outputs": [
    {
     "name": "stdout",
     "output_type": "stream",
     "text": [
      "Tuple elements frequency is : {4: 2, 5: 2, 6: 2, 7: 2, 3: 1}\n"
     ]
    }
   ],
   "source": [
    "#python program find elements frequency in Tuple\n",
    "from collections import Counter\n",
    "tup=(4,5,6,7,4,5,6,3,7)\n",
    "res=dict(Counter(tup))\n",
    "print('Tuple elements frequency is :',res)\n"
   ]
  },
  {
   "cell_type": "code",
   "execution_count": 9,
   "id": "fc852ef2",
   "metadata": {},
   "outputs": [
    {
     "name": "stdout",
     "output_type": "stream",
     "text": [
      "Tuple elements frequency is : {4: 2, 5: 2, 6: 2, 7: 2, 3: 1}\n"
     ]
    }
   ],
   "source": [
    "#Another method\n",
    "tup=(4,5,6,7,4,5,6,3,7)\n",
    "res={}\n",
    "for ele in tup:\n",
    "    if ele in res:\n",
    "        res[ele]+=1\n",
    "    else:\n",
    "        res[ele]=1\n",
    "print('Tuple elements frequency is :',res)"
   ]
  },
  {
   "cell_type": "code",
   "execution_count": null,
   "id": "31591b99",
   "metadata": {},
   "outputs": [],
   "source": []
  }
 ],
 "metadata": {
  "kernelspec": {
   "display_name": "Python 3 (ipykernel)",
   "language": "python",
   "name": "python3"
  },
  "language_info": {
   "codemirror_mode": {
    "name": "ipython",
    "version": 3
   },
   "file_extension": ".py",
   "mimetype": "text/x-python",
   "name": "python",
   "nbconvert_exporter": "python",
   "pygments_lexer": "ipython3",
   "version": "3.9.7"
  }
 },
 "nbformat": 4,
 "nbformat_minor": 5
}
