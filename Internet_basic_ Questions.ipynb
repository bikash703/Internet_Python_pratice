{
 "cells": [
  {
   "cell_type": "markdown",
   "id": "5384c48f",
   "metadata": {},
   "source": [
    "## BASIC QUESTIONS"
   ]
  },
  {
   "cell_type": "code",
   "execution_count": 1,
   "id": "68a9b6d9",
   "metadata": {},
   "outputs": [
    {
     "name": "stdout",
     "output_type": "stream",
     "text": [
      "Enter a no3\n",
      "The factorial of 3 is 6\n"
     ]
    }
   ],
   "source": [
    "# PYTHON program for factorial of a number.?\n",
    "n=int(input('Enter a no'))\n",
    "s=1\n",
    "if n==0:\n",
    "    s=1\n",
    "else:\n",
    "    for i in range(1,n+1):\n",
    "        s=s*i\n",
    "print(f'The factorial of {n} is {s}')\n",
    "    \n",
    "    "
   ]
  },
  {
   "cell_type": "code",
   "execution_count": 2,
   "id": "1d3b783c",
   "metadata": {},
   "outputs": [
    {
     "name": "stdout",
     "output_type": "stream",
     "text": [
      "Enter your Principle amount: 10000\n",
      "Enter Time : 8\n",
      "Enter Rate : 6\n",
      "The Simple intrest is 4800.0\n"
     ]
    }
   ],
   "source": [
    "# Python program for simple intrest?\n",
    "p=int(input('Enter your Principle amount: '))\n",
    "t=int(input('Enter Time : '))\n",
    "r=int(input('Enter Rate : '))\n",
    "\n",
    "si=(p*t*r)/100\n",
    "\n",
    "print('The Simple intrest is',si)"
   ]
  },
  {
   "cell_type": "code",
   "execution_count": 7,
   "id": "4b38860a",
   "metadata": {},
   "outputs": [
    {
     "name": "stdout",
     "output_type": "stream",
     "text": [
      "Enter a Number :154\n",
      "not armstrong no\n"
     ]
    }
   ],
   "source": [
    "# Python program to check Armstrong Number or Not?\n",
    "n=int(input('Enter a Number :'))\n",
    "sum=0\n",
    "temp=n\n",
    "while temp>0:\n",
    "    m = temp%10\n",
    "    sum = sum + (m**3)\n",
    "    temp=temp//10\n",
    "    \n",
    "if sum==n:\n",
    "    print('armstrong no')\n",
    "else:\n",
    "    print('not armstrong no')\n",
    "    \n",
    "\n",
    "    "
   ]
  },
  {
   "cell_type": "code",
   "execution_count": null,
   "id": "6655bcdc",
   "metadata": {},
   "outputs": [],
   "source": []
  },
  {
   "cell_type": "code",
   "execution_count": null,
   "id": "2b2ff156",
   "metadata": {},
   "outputs": [],
   "source": []
  }
 ],
 "metadata": {
  "kernelspec": {
   "display_name": "Python 3 (ipykernel)",
   "language": "python",
   "name": "python3"
  },
  "language_info": {
   "codemirror_mode": {
    "name": "ipython",
    "version": 3
   },
   "file_extension": ".py",
   "mimetype": "text/x-python",
   "name": "python",
   "nbconvert_exporter": "python",
   "pygments_lexer": "ipython3",
   "version": "3.9.7"
  }
 },
 "nbformat": 4,
 "nbformat_minor": 5
}
